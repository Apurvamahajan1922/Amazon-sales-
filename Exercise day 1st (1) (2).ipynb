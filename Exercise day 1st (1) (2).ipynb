{
 "cells": [
  {
   "cell_type": "markdown",
   "id": "f5773998",
   "metadata": {},
   "source": [
    "- workshop , arranged 10th jan 2022 to 14th jan 2022, online..\n",
    "\n",
    "- Contact: 9975707273 Gmail: aistatics.info@gmail.com\n",
    "\n",
    "- Exercise: day1st\n",
    "\n",
    " "
   ]
  },
  {
   "cell_type": "code",
   "execution_count": 2,
   "id": "d6c6bfc1",
   "metadata": {},
   "outputs": [
    {
     "data": {
      "text/plain": [
       "17025"
      ]
     },
     "execution_count": 2,
     "metadata": {},
     "output_type": "execute_result"
    }
   ],
   "source": [
    "import numpy as np\n",
    "np.random.randint(17021,17083)"
   ]
  },
  {
   "cell_type": "markdown",
   "id": "a2a5d2f9",
   "metadata": {},
   "source": [
    "#### Print your name using print function¶"
   ]
  },
  {
   "cell_type": "code",
   "execution_count": 3,
   "id": "a352cf51",
   "metadata": {},
   "outputs": [
    {
     "name": "stdout",
     "output_type": "stream",
     "text": [
      "Apurva Mahajan\n"
     ]
    }
   ],
   "source": [
    "R = \"Apurva Mahajan\"\n",
    "print(R)"
   ]
  },
  {
   "cell_type": "markdown",
   "id": "29afb06b",
   "metadata": {},
   "source": [
    "#### Write True or False"
   ]
  },
  {
   "cell_type": "code",
   "execution_count": null,
   "id": "17a2613c",
   "metadata": {},
   "outputs": [],
   "source": [
    "#After sentense write variable declaration whether it is true or False\n",
    "example:  abc=[1,2,4]     # True\n",
    "\n",
    "abs=3 -----> #True\n",
    "1__a=[123] ------> #False\n",
    "a__1=[123] ------> #True\n",
    "__a=[\"1111\"]------> #True\n",
    "kjklkj2=(1,2,3) -----> #True\n",
    "xyz@=55----->#False\n",
    "x1234t5678990989898=[1,2,3]------>#True\n",
    "1233=44------>#False\n",
    "@abs={1,2,3}------->#False\n",
    "pune=pune------>#True\n",
    "pune=44------>#True\n",
    "pune123=44------->#True\n",
    "123pune=44------>#False\n",
    "1_@pune=44------>#False\n",
    "pune@123=44------>#False\n",
    "pune______12345=[\"pune\"]------>#True\n",
    "____pune=[\"123\"]------>#True\n",
    "a_1_b_2=abc------>#True\n"
   ]
  },
  {
   "cell_type": "markdown",
   "id": "9462b319",
   "metadata": {},
   "source": [
    "#### Difference between = and == (in Two lines) "
   ]
  },
  {
   "cell_type": "markdown",
   "id": "67f9f726",
   "metadata": {},
   "source": [
    "### Answer :\n",
    "1.The \"=\" symbol is used for assignment in programming languages.It is used to assign a value to a variable.For example, in Python, the statement \"x = 5\" assigns the value 5 to the variable \"x\".\n",
    "\n",
    "2.The \"==\" symbol is used for comparison in programming languages. It is used to check if two values are equal. For example, in Python, the expression \"x == 5\" evaluates to either True or False, depending on whether the value of \"x\" is equal to 5 or not.\n",
    "\n",
    "##### In summary, \"=\" is used for assignment, while \"==\" is used for comparison."
   ]
  },
  {
   "cell_type": "markdown",
   "id": "088f4b3a",
   "metadata": {},
   "source": [
    "#### What is difference between list and tuple (in Two lines)"
   ]
  },
  {
   "cell_type": "markdown",
   "id": "7b1aa467",
   "metadata": {},
   "source": [
    "### Answer :\n",
    "A list is a mutable data structure in which elements can be added, removed, or modified. It is represented by square brackets [] in Python.\n",
    "\n",
    "A tuple is an immutable data structure where elements cannot be modified after creation. It is represented by parentheses () or without any delimiters.\n",
    "\n",
    "##### List =[ ] , Tuple = ( ) "
   ]
  },
  {
   "cell_type": "markdown",
   "id": "96f3df4f",
   "metadata": {},
   "source": [
    "#### Use Arithematic Operation for a and b, when a= 5,b=-5¶ "
   ]
  },
  {
   "cell_type": "code",
   "execution_count": 5,
   "id": "7aaeb7f7",
   "metadata": {},
   "outputs": [
    {
     "name": "stdout",
     "output_type": "stream",
     "text": [
      "0\n"
     ]
    }
   ],
   "source": [
    "a = 5  \n",
    "b = 5\n",
    "print(a-b)"
   ]
  },
  {
   "cell_type": "code",
   "execution_count": 6,
   "id": "1365a89f",
   "metadata": {},
   "outputs": [
    {
     "name": "stdout",
     "output_type": "stream",
     "text": [
      "10\n"
     ]
    }
   ],
   "source": [
    "print(a+b)"
   ]
  },
  {
   "cell_type": "code",
   "execution_count": 7,
   "id": "243aa529",
   "metadata": {},
   "outputs": [
    {
     "name": "stdout",
     "output_type": "stream",
     "text": [
      "1.0\n"
     ]
    }
   ],
   "source": [
    "print(float(a/b))"
   ]
  },
  {
   "cell_type": "code",
   "execution_count": 8,
   "id": "db5cfb64",
   "metadata": {},
   "outputs": [
    {
     "name": "stdout",
     "output_type": "stream",
     "text": [
      "-25\n"
     ]
    }
   ],
   "source": [
    "print(-a*b)"
   ]
  },
  {
   "cell_type": "markdown",
   "id": "b2b2fef3",
   "metadata": {},
   "source": [
    "#### Use Logical Operation for a and m=10,n=9 "
   ]
  },
  {
   "cell_type": "code",
   "execution_count": null,
   "id": "c962550f",
   "metadata": {},
   "outputs": [],
   "source": [
    "#greater than\n",
    "m > n"
   ]
  },
  {
   "cell_type": "code",
   "execution_count": null,
   "id": "71e79d97",
   "metadata": {},
   "outputs": [],
   "source": [
    "#less than\n",
    "n < m"
   ]
  },
  {
   "cell_type": "code",
   "execution_count": null,
   "id": "0f4e1df7",
   "metadata": {},
   "outputs": [],
   "source": [
    "#not Equal to\n",
    "m != n"
   ]
  },
  {
   "cell_type": "code",
   "execution_count": null,
   "id": "fc940f73",
   "metadata": {},
   "outputs": [],
   "source": [
    "#Equal to\n",
    "m == n"
   ]
  },
  {
   "cell_type": "markdown",
   "id": "56d75d5d",
   "metadata": {},
   "source": [
    "#### Write code"
   ]
  },
  {
   "cell_type": "code",
   "execution_count": 10,
   "id": "5062bd7d",
   "metadata": {},
   "outputs": [
    {
     "data": {
      "text/plain": [
       "[23, 501, 'Pune', (1, 2, 3), 2.1, ['Pythonprogram']]"
      ]
     },
     "execution_count": 10,
     "metadata": {},
     "output_type": "execute_result"
    }
   ],
   "source": [
    "L=[23,501,\"Pune\",(1,2,3),2.1,[\"Python\"+\"program\"]]\n",
    "L"
   ]
  },
  {
   "cell_type": "code",
   "execution_count": 11,
   "id": "707ef313",
   "metadata": {},
   "outputs": [
    {
     "data": {
      "text/plain": [
       "['Pythonprogram']"
      ]
     },
     "execution_count": 11,
     "metadata": {},
     "output_type": "execute_result"
    }
   ],
   "source": [
    "L[-1]"
   ]
  },
  {
   "cell_type": "code",
   "execution_count": 12,
   "id": "5ce448fd",
   "metadata": {},
   "outputs": [
    {
     "data": {
      "text/plain": [
       "501"
      ]
     },
     "execution_count": 12,
     "metadata": {},
     "output_type": "execute_result"
    }
   ],
   "source": [
    "L[1]"
   ]
  },
  {
   "cell_type": "code",
   "execution_count": 13,
   "id": "f6194cc1",
   "metadata": {},
   "outputs": [
    {
     "data": {
      "text/plain": [
       "['Pune', (1, 2, 3), 2.1]"
      ]
     },
     "execution_count": 13,
     "metadata": {},
     "output_type": "execute_result"
    }
   ],
   "source": [
    "L[2:5]"
   ]
  },
  {
   "cell_type": "code",
   "execution_count": 14,
   "id": "4a61033f",
   "metadata": {},
   "outputs": [
    {
     "data": {
      "text/plain": [
       "[23, 501, 'Baramati', 'Pune', (1, 2, 3), 2.1, ['Pythonprogram']]"
      ]
     },
     "execution_count": 14,
     "metadata": {},
     "output_type": "execute_result"
    }
   ],
   "source": [
    "L.insert(2,'Baramati')\n",
    "L"
   ]
  },
  {
   "cell_type": "code",
   "execution_count": 16,
   "id": "98a7e301",
   "metadata": {},
   "outputs": [
    {
     "data": {
      "text/plain": [
       "[23, 501, 'Baramati', (1, 2, 3), 2.1, ['Pythonprogram']]"
      ]
     },
     "execution_count": 16,
     "metadata": {},
     "output_type": "execute_result"
    }
   ],
   "source": [
    "L.remove('Pune')\n",
    "L"
   ]
  },
  {
   "cell_type": "code",
   "execution_count": 17,
   "id": "6fffa7bc",
   "metadata": {},
   "outputs": [
    {
     "data": {
      "text/plain": [
       "[23, 501, 'Baramati', (1, 2, 3), 2.1, ['Pythonprogram'], 'TCC']"
      ]
     },
     "execution_count": 17,
     "metadata": {},
     "output_type": "execute_result"
    }
   ],
   "source": [
    "L.append('TCC')\n",
    "L"
   ]
  },
  {
   "cell_type": "code",
   "execution_count": 18,
   "id": "e3899ef9",
   "metadata": {},
   "outputs": [
    {
     "data": {
      "text/plain": [
       "[]"
      ]
     },
     "execution_count": 18,
     "metadata": {},
     "output_type": "execute_result"
    }
   ],
   "source": [
    "L.clear()\n",
    "L"
   ]
  },
  {
   "cell_type": "code",
   "execution_count": null,
   "id": "01e88b51",
   "metadata": {},
   "outputs": [],
   "source": []
  },
  {
   "cell_type": "code",
   "execution_count": 19,
   "id": "609e9d3c",
   "metadata": {},
   "outputs": [
    {
     "data": {
      "text/plain": [
       "(1, 9, 4, 6, 2)"
      ]
     },
     "execution_count": 19,
     "metadata": {},
     "output_type": "execute_result"
    }
   ],
   "source": [
    "t=(1,9,4,6,2)   #tuple\n",
    "t"
   ]
  },
  {
   "cell_type": "code",
   "execution_count": 20,
   "id": "1021a510",
   "metadata": {},
   "outputs": [
    {
     "data": {
      "text/plain": [
       "(4, 6, 2)"
      ]
     },
     "execution_count": 20,
     "metadata": {},
     "output_type": "execute_result"
    }
   ],
   "source": [
    "t[2:]"
   ]
  },
  {
   "cell_type": "code",
   "execution_count": 22,
   "id": "44b3f818",
   "metadata": {},
   "outputs": [
    {
     "data": {
      "text/plain": [
       "(1, 9, 4)"
      ]
     },
     "execution_count": 22,
     "metadata": {},
     "output_type": "execute_result"
    }
   ],
   "source": [
    "t[:-2]"
   ]
  },
  {
   "cell_type": "code",
   "execution_count": 23,
   "id": "6ad931ef",
   "metadata": {},
   "outputs": [
    {
     "data": {
      "text/plain": [
       "('a', 'b', 'c', 'd')"
      ]
     },
     "execution_count": 23,
     "metadata": {},
     "output_type": "execute_result"
    }
   ],
   "source": [
    "x = (\"a\", \"b\", \"c\", \"d\")\n",
    "x"
   ]
  },
  {
   "cell_type": "code",
   "execution_count": 27,
   "id": "aa157ac0",
   "metadata": {},
   "outputs": [
    {
     "data": {
      "text/plain": [
       "'bd'"
      ]
     },
     "execution_count": 27,
     "metadata": {},
     "output_type": "execute_result"
    }
   ],
   "source": [
    "x[1] + x[3]"
   ]
  },
  {
   "cell_type": "markdown",
   "id": "29219180",
   "metadata": {},
   "source": [
    "#### Convert x variable type in list datatype and check"
   ]
  },
  {
   "cell_type": "code",
   "execution_count": 37,
   "id": "4b0d9320",
   "metadata": {},
   "outputs": [],
   "source": [
    "m =list(x)"
   ]
  },
  {
   "cell_type": "code",
   "execution_count": 38,
   "id": "ad7f1cb1",
   "metadata": {},
   "outputs": [
    {
     "data": {
      "text/plain": [
       "['a', 'b', 'c', 'd']"
      ]
     },
     "execution_count": 38,
     "metadata": {},
     "output_type": "execute_result"
    }
   ],
   "source": [
    "m"
   ]
  },
  {
   "cell_type": "code",
   "execution_count": 39,
   "id": "6c33ee87",
   "metadata": {},
   "outputs": [
    {
     "name": "stdout",
     "output_type": "stream",
     "text": [
      "<class 'list'>\n"
     ]
    }
   ],
   "source": [
    "print(type(m))"
   ]
  },
  {
   "cell_type": "code",
   "execution_count": 40,
   "id": "09a5547a",
   "metadata": {},
   "outputs": [
    {
     "name": "stdout",
     "output_type": "stream",
     "text": [
      "kitchen\n",
      "9.5\n",
      "20.0\n"
     ]
    }
   ],
   "source": [
    "areas = [\"hallway\", 11.25, \"kitchen\", 18.0, \"living room\", 20.0, \"bedroom\", 10.75, \"bathroom\", 9.50]\n",
    "\n",
    "# Print out second element from areas\n",
    "print(areas[2])\n",
    "\n",
    "# Print out last element from areas\n",
    "print(areas[-1])\n",
    "\n",
    "# Print out the area of the living room\n",
    "print(areas[5])"
   ]
  },
  {
   "cell_type": "markdown",
   "id": "276cf00a",
   "metadata": {},
   "source": [
    "# Set and dict "
   ]
  },
  {
   "cell_type": "code",
   "execution_count": 41,
   "id": "04f83b5b",
   "metadata": {},
   "outputs": [
    {
     "data": {
      "text/plain": [
       "{'item1': 45.5, 'item2': 35, 'item3': 41.3, 'item4': 55, 'item5': 24}"
      ]
     },
     "execution_count": 41,
     "metadata": {},
     "output_type": "execute_result"
    }
   ],
   "source": [
    "Sample_data={'item1': 45.50, 'item2':35, 'item3': 41.30, 'item4':55, 'item5': 24}\n",
    "Sample_data"
   ]
  },
  {
   "cell_type": "code",
   "execution_count": 42,
   "id": "ad15a7b8",
   "metadata": {},
   "outputs": [
    {
     "data": {
      "text/plain": [
       "35"
      ]
     },
     "execution_count": 42,
     "metadata": {},
     "output_type": "execute_result"
    }
   ],
   "source": [
    "Sample_data['item2']"
   ]
  },
  {
   "cell_type": "code",
   "execution_count": 47,
   "id": "4c7fb55a",
   "metadata": {},
   "outputs": [
    {
     "data": {
      "text/plain": [
       "dict_keys(['item1', 'item2', 'item3', 'item4', 'item5'])"
      ]
     },
     "execution_count": 47,
     "metadata": {},
     "output_type": "execute_result"
    }
   ],
   "source": [
    "Sample_data.keys()"
   ]
  },
  {
   "cell_type": "code",
   "execution_count": 48,
   "id": "8e7bc867",
   "metadata": {},
   "outputs": [
    {
     "data": {
      "text/plain": [
       "dict_values([45.5, 35, 41.3, 55, 24])"
      ]
     },
     "execution_count": 48,
     "metadata": {},
     "output_type": "execute_result"
    }
   ],
   "source": [
    "Sample_data.values()"
   ]
  },
  {
   "cell_type": "code",
   "execution_count": 49,
   "id": "00c52ee0",
   "metadata": {},
   "outputs": [
    {
     "data": {
      "text/plain": [
       "{'item1': 45.5, 'item2': 35, 'item3': 41.3, 'item4': 55, 'item5': 24}"
      ]
     },
     "execution_count": 49,
     "metadata": {},
     "output_type": "execute_result"
    }
   ],
   "source": [
    "Sample_data"
   ]
  },
  {
   "cell_type": "code",
   "execution_count": null,
   "id": "e384e91b",
   "metadata": {},
   "outputs": [],
   "source": []
  },
  {
   "cell_type": "code",
   "execution_count": 50,
   "id": "7ed86e17",
   "metadata": {},
   "outputs": [
    {
     "data": {
      "text/plain": [
       "{'hallway': 11.25,\n",
       " 'kitchen': 18.0,\n",
       " 'living room': 20.0,\n",
       " 'bedroom': 10.75,\n",
       " 'bathroom': 9.5}"
      ]
     },
     "execution_count": 50,
     "metadata": {},
     "output_type": "execute_result"
    }
   ],
   "source": [
    "# Create the d\n",
    "d = {\"hallway\": 11.25, \"kitchen\":18.0, \"living room\": 20.0, \"bedroom\": 10.75, \"bathroom\": 9.50}\n",
    "d"
   ]
  },
  {
   "cell_type": "code",
   "execution_count": 52,
   "id": "4e8a6339",
   "metadata": {},
   "outputs": [
    {
     "data": {
      "text/plain": [
       "{'hallway': 11.25,\n",
       " 'kitchen': 18.0,\n",
       " 'living room': 20.0,\n",
       " 'bedroom': 10.75,\n",
       " 'bathroom': 10}"
      ]
     },
     "execution_count": 52,
     "metadata": {},
     "output_type": "execute_result"
    }
   ],
   "source": [
    "# Replace the bathroom area by 10\n",
    "d[\"bathroom\"]=10\n",
    "d"
   ]
  },
  {
   "cell_type": "code",
   "execution_count": 53,
   "id": "009204c2",
   "metadata": {},
   "outputs": [
    {
     "data": {
      "text/plain": [
       "{'hallway': 11.25,\n",
       " 'kitchen': 18.0,\n",
       " 'bedroom': 10.75,\n",
       " 'bathroom': 9.5,\n",
       " 'chill zone': 20.0}"
      ]
     },
     "execution_count": 53,
     "metadata": {},
     "output_type": "execute_result"
    }
   ],
   "source": [
    "# Change \"living room\" to \"chill zone\"\n",
    "d = {\"hallway\": 11.25, \"kitchen\": 18.0, \"living room\": 20.0, \"bedroom\": 10.75, \"bathroom\": 9.50}\n",
    "d[\"chill zone\"] = d.pop(\"living room\")\n",
    "d"
   ]
  },
  {
   "cell_type": "markdown",
   "id": "80797c8f",
   "metadata": {},
   "source": [
    "####  Create Empty set and check type "
   ]
  },
  {
   "cell_type": "code",
   "execution_count": 58,
   "id": "e1f68ed5",
   "metadata": {},
   "outputs": [
    {
     "data": {
      "text/plain": [
       "set()"
      ]
     },
     "execution_count": 58,
     "metadata": {},
     "output_type": "execute_result"
    }
   ],
   "source": [
    "empty_set = set()\n",
    "empty_set"
   ]
  },
  {
   "cell_type": "code",
   "execution_count": 59,
   "id": "310c35ea",
   "metadata": {},
   "outputs": [
    {
     "name": "stdout",
     "output_type": "stream",
     "text": [
      "<class 'set'>\n"
     ]
    }
   ],
   "source": [
    "print(type(empty_set))"
   ]
  },
  {
   "cell_type": "markdown",
   "id": "1449e227",
   "metadata": {},
   "source": [
    "#### Create two sets name of X and Y and apply two methods"
   ]
  },
  {
   "cell_type": "code",
   "execution_count": 2,
   "id": "ede6ad80",
   "metadata": {},
   "outputs": [
    {
     "name": "stdout",
     "output_type": "stream",
     "text": [
      "Union of X and Y: {1, 2, 3, 4, 5, 6, 7, 8}\n"
     ]
    }
   ],
   "source": [
    "X = {1, 2, 3, 4, 5}\n",
    "Y = {4, 5, 6, 7, 8}\n",
    "\n",
    "# Method 1: Union\n",
    "union_set = X.union(Y)\n",
    "print(\"Union of X and Y:\", union_set)"
   ]
  },
  {
   "cell_type": "code",
   "execution_count": 3,
   "id": "3bb84f89",
   "metadata": {},
   "outputs": [
    {
     "name": "stdout",
     "output_type": "stream",
     "text": [
      "Intersection of X and Y: {4, 5}\n"
     ]
    }
   ],
   "source": [
    "# Method 2: Intersection\n",
    "intersection_set = X.intersection(Y)\n",
    "print(\"Intersection of X and Y:\", intersection_set)"
   ]
  },
  {
   "cell_type": "markdown",
   "id": "2630ef4d",
   "metadata": {},
   "source": [
    "#### Create list name of L1 and apply Five methods"
   ]
  },
  {
   "cell_type": "code",
   "execution_count": 6,
   "id": "516f5dc4",
   "metadata": {},
   "outputs": [
    {
     "name": "stdout",
     "output_type": "stream",
     "text": [
      "[1, 2, 3, 4, 5, 6]\n"
     ]
    }
   ],
   "source": [
    "# Create a list L1\n",
    "L1 = [1, 2, 3, 4, 5]\n",
    "\n",
    "# Method 1: append\n",
    "L1.append(6)\n",
    "print(L1)"
   ]
  },
  {
   "cell_type": "code",
   "execution_count": 7,
   "id": "e86aa4e9",
   "metadata": {},
   "outputs": [
    {
     "name": "stdout",
     "output_type": "stream",
     "text": [
      "[1, 2, 3, 4, 5, 6, 7, 8, 9]\n"
     ]
    }
   ],
   "source": [
    "# Method 2: extend\n",
    "L1.extend([7, 8, 9])\n",
    "print(L1)"
   ]
  },
  {
   "cell_type": "code",
   "execution_count": 8,
   "id": "bbfbbdf0",
   "metadata": {},
   "outputs": [
    {
     "name": "stdout",
     "output_type": "stream",
     "text": [
      "[0, 1, 2, 3, 4, 5, 6, 7, 8, 9]\n"
     ]
    }
   ],
   "source": [
    "# Method 3: insert\n",
    "L1.insert(0, 0)\n",
    "print(L1)"
   ]
  },
  {
   "cell_type": "code",
   "execution_count": 9,
   "id": "beaf4ede",
   "metadata": {},
   "outputs": [
    {
     "name": "stdout",
     "output_type": "stream",
     "text": [
      "[0, 1, 2, 4, 5, 6, 7, 8, 9]\n"
     ]
    }
   ],
   "source": [
    "# Method 4: remove\n",
    "L1.remove(3)\n",
    "print(L1)"
   ]
  },
  {
   "cell_type": "code",
   "execution_count": 13,
   "id": "d8ce1a36",
   "metadata": {},
   "outputs": [
    {
     "name": "stdout",
     "output_type": "stream",
     "text": [
      "Popped element: 7\n",
      "List after popping the last element: [0, 1, 2, 4, 5, 6]\n"
     ]
    }
   ],
   "source": [
    "# Method 5: pop\n",
    "popped_element = L1.pop()\n",
    "print(\"Popped element:\", popped_element)\n",
    "print(\"List after popping the last element:\", L1)"
   ]
  },
  {
   "cell_type": "markdown",
   "id": "2c3cfca7",
   "metadata": {},
   "source": [
    "#### Create tuple name of T1 and apply two methods "
   ]
  },
  {
   "cell_type": "code",
   "execution_count": 15,
   "id": "d82c9b6b",
   "metadata": {},
   "outputs": [
    {
     "name": "stdout",
     "output_type": "stream",
     "text": [
      "2\n"
     ]
    }
   ],
   "source": [
    "# Create a tuple T1\n",
    "T1 = (1, 2, 3, 4, 5)\n",
    "\n",
    "# Method 1: index\n",
    "index_3 = T1.index(3)\n",
    "print(index_3)"
   ]
  },
  {
   "cell_type": "code",
   "execution_count": 16,
   "id": "01ef9978",
   "metadata": {},
   "outputs": [
    {
     "name": "stdout",
     "output_type": "stream",
     "text": [
      "1\n"
     ]
    }
   ],
   "source": [
    "# Method 2: count\n",
    "count_4 = T1.count(4)\n",
    "print(count_4)"
   ]
  },
  {
   "cell_type": "markdown",
   "id": "c738578d",
   "metadata": {},
   "source": [
    "#### Create dict name of D1 and apply two methods\n"
   ]
  },
  {
   "cell_type": "code",
   "execution_count": 17,
   "id": "1262b9ac",
   "metadata": {},
   "outputs": [
    {
     "name": "stdout",
     "output_type": "stream",
     "text": [
      "dict_keys(['name', 'age', 'city'])\n"
     ]
    }
   ],
   "source": [
    "# Create a dictionary D1\n",
    "D1 = {'name': 'John', 'age': 25, 'city': 'New York'}\n",
    "\n",
    "# Method 1: keys\n",
    "keys = D1.keys()\n",
    "print(keys)"
   ]
  },
  {
   "cell_type": "code",
   "execution_count": 18,
   "id": "d6359e81",
   "metadata": {},
   "outputs": [
    {
     "name": "stdout",
     "output_type": "stream",
     "text": [
      "dict_values(['John', 25, 'New York'])\n"
     ]
    }
   ],
   "source": [
    "# Method 2: values\n",
    "values = D1.values()\n",
    "print(values)"
   ]
  },
  {
   "cell_type": "markdown",
   "id": "e6eefa70",
   "metadata": {},
   "source": [
    "#### Write variable declaration norms "
   ]
  },
  {
   "cell_type": "markdown",
   "id": "8600d18c",
   "metadata": {},
   "source": [
    "### Answer :\n",
    "\n",
    "1.Use descriptive names: Choose meaningful and descriptive names for variables that accurately represent their purpose or value. This improves code readability and makes it easier for others (or yourself) to understand the code.\n",
    "\n",
    "2.Follow naming conventions: Adhere to the naming conventions specific to the programming language you are using. For example, in Python, it is common to use lowercase letters with underscores for variable names (e.g., my_variable). In JavaScript, camel case is often used (e.g., myVariable).\n",
    "\n",
    "3.Initialize variables: Always initialize variables with an appropriate initial value. This helps prevent unexpected behavior and ensures that variables have a valid starting point.\n",
    "\n",
    "4.Declare variables close to their usage: Declare variables as close as possible to the point where they are first used. This helps improve code readability and reduces the chances of accidentally reusing or misinterpreting variables.\n",
    "\n",
    "5.Use proper data types: Choose the appropriate data type for your variables based on the values they will hold. This ensures type safety and helps prevent unexpected errors or inconsistencies.\n",
    "\n",
    "6.Avoid using reserved words: Do not use reserved words or keywords of the programming language as variable names. This can lead to syntax errors or confusion.\n",
    "\n",
    "7.Maintain consistent style: Maintain a consistent style throughout your codebase. Consistency in variable naming, indentation, spacing, and other aspects of code formatting enhances code readability and maintainability.\n",
    "\n",
    "8.Limit variable scope: Declare variables within the smallest scope necessary to fulfill their purpose. This helps prevent unintended access or modification of variables and promotes good software design principles."
   ]
  },
  {
   "cell_type": "code",
   "execution_count": null,
   "id": "d8792c94",
   "metadata": {},
   "outputs": [],
   "source": []
  }
 ],
 "metadata": {
  "kernelspec": {
   "display_name": "Python 3 (ipykernel)",
   "language": "python",
   "name": "python3"
  },
  "language_info": {
   "codemirror_mode": {
    "name": "ipython",
    "version": 3
   },
   "file_extension": ".py",
   "mimetype": "text/x-python",
   "name": "python",
   "nbconvert_exporter": "python",
   "pygments_lexer": "ipython3",
   "version": "3.9.12"
  }
 },
 "nbformat": 4,
 "nbformat_minor": 5
}
